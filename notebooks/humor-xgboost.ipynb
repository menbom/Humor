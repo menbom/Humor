{
 "cells": [
  {
   "cell_type": "code",
   "execution_count": 87,
   "metadata": {
    "collapsed": true,
    "pycharm": {
     "name": "#%%\n"
    }
   },
   "outputs": [],
   "source": [
    "from sklearn.model_selection import train_test_split\n",
    "from sklearn.metrics import accuracy_score\n",
    "from sklearn.feature_extraction.text import CountVectorizer\n",
    "from xgboost import XGBClassifier\n",
    "import pandas as pd\n",
    "import matplotlib.pyplot as pl\n",
    "import io\n",
    "\n"
   ]
  },
  {
   "cell_type": "markdown",
   "source": [
    "Läs in data"
   ],
   "metadata": {
    "collapsed": false,
    "pycharm": {
     "name": "#%% md\n"
    }
   }
  },
  {
   "cell_type": "code",
   "execution_count": 57,
   "outputs": [
    {
     "data": {
      "text/plain": "                                                     text  humor\n4834    What do you call a pickle that draws? a dillus...   True\n179168  Right-wing media group that backs limbaugh sud...  False\n50466            10 ways to stay in shape while traveling  False\n71360   Eight things you probably didn't know about mi...  False\n37901   What would happen if you shot donald trump in ...   True",
      "text/html": "<div>\n<style scoped>\n    .dataframe tbody tr th:only-of-type {\n        vertical-align: middle;\n    }\n\n    .dataframe tbody tr th {\n        vertical-align: top;\n    }\n\n    .dataframe thead th {\n        text-align: right;\n    }\n</style>\n<table border=\"1\" class=\"dataframe\">\n  <thead>\n    <tr style=\"text-align: right;\">\n      <th></th>\n      <th>text</th>\n      <th>humor</th>\n    </tr>\n  </thead>\n  <tbody>\n    <tr>\n      <th>4834</th>\n      <td>What do you call a pickle that draws? a dillus...</td>\n      <td>True</td>\n    </tr>\n    <tr>\n      <th>179168</th>\n      <td>Right-wing media group that backs limbaugh sud...</td>\n      <td>False</td>\n    </tr>\n    <tr>\n      <th>50466</th>\n      <td>10 ways to stay in shape while traveling</td>\n      <td>False</td>\n    </tr>\n    <tr>\n      <th>71360</th>\n      <td>Eight things you probably didn't know about mi...</td>\n      <td>False</td>\n    </tr>\n    <tr>\n      <th>37901</th>\n      <td>What would happen if you shot donald trump in ...</td>\n      <td>True</td>\n    </tr>\n  </tbody>\n</table>\n</div>"
     },
     "execution_count": 57,
     "metadata": {},
     "output_type": "execute_result"
    }
   ],
   "source": [
    "#os.chdir(\"F:\\\\03-github\\\\turnusol\\\\turnusol\\\\experiments\")\n",
    "data = pd.read_csv(\"..\\\\data\\\\dataset.csv\").dropna()\n",
    "\n",
    "data.sample(5)"
   ],
   "metadata": {
    "collapsed": false,
    "pycharm": {
     "name": "#%%\n"
    }
   }
  },
  {
   "cell_type": "markdown",
   "source": [
    "Lek lite"
   ],
   "metadata": {
    "collapsed": false,
    "pycharm": {
     "name": "#%% md\n"
    }
   }
  },
  {
   "cell_type": "code",
   "execution_count": 129,
   "outputs": [],
   "source": [
    "cv = CountVectorizer(max_features=2000, encoding=\"utf-8\",\n",
    "      ngram_range = (1,3),\n",
    "      token_pattern = \"[A-Za-z_][A-Za-z\\d_]*\")\n",
    "X = cv.fit_transform(data.text).toarray()\n",
    "y = data['humor']\n",
    "X_train, X_test, y_train, y_test = train_test_split(X, y,\n",
    "      test_size=0.2,\n",
    "      random_state=0)\n",
    "count_df = pd.DataFrame(X_train, columns=cv.get_feature_names_out())\n",
    "\n",
    "#count_df['etiket'] = y_train\n"
   ],
   "metadata": {
    "collapsed": false,
    "pycharm": {
     "name": "#%%\n"
    }
   }
  },
  {
   "cell_type": "code",
   "execution_count": 130,
   "outputs": [
    {
     "name": "stderr",
     "output_type": "stream",
     "text": [
      "C:\\Users\\menbo\\anaconda3\\envs\\scientificProject39\\lib\\site-packages\\xgboost\\sklearn.py:1224: UserWarning: The use of label encoder in XGBClassifier is deprecated and will be removed in a future release. To remove this warning, do the following: 1) Pass option use_label_encoder=False when constructing XGBClassifier object; and 2) Encode your labels (y) as integers starting with 0, i.e. 0, 1, 2, ..., [num_class - 1].\n",
      "  warnings.warn(label_encoder_deprecation_msg, UserWarning)\n"
     ]
    },
    {
     "name": "stdout",
     "output_type": "stream",
     "text": [
      "[21:38:09] WARNING: ..\\src\\learner.cc:1115: Starting in XGBoost 1.3.0, the default evaluation metric used with the objective 'binary:logistic' was changed from 'error' to 'logloss'. Explicitly set eval_metric if you'd like to restore the old behavior.\n"
     ]
    },
    {
     "data": {
      "text/plain": "XGBClassifier(base_score=0.5, booster='gbtree', colsample_bylevel=1,\n              colsample_bynode=1, colsample_bytree=1, enable_categorical=False,\n              gamma=0, gpu_id=-1, importance_type=None,\n              interaction_constraints='', learning_rate=0.300000012,\n              max_delta_step=0, max_depth=6, min_child_weight=1, missing=nan,\n              monotone_constraints='()', n_estimators=100, n_jobs=16,\n              num_parallel_tree=1, predictor='auto', random_state=0,\n              reg_alpha=0, reg_lambda=1, scale_pos_weight=1, subsample=1,\n              tree_method='exact', validate_parameters=1, verbosity=1)"
     },
     "execution_count": 130,
     "metadata": {},
     "output_type": "execute_result"
    }
   ],
   "source": [
    "# fit model to training data\n",
    "\n",
    "model = XGBClassifier(verbosity=1)\n",
    "model.fit(X_train, y_train)\n"
   ],
   "metadata": {
    "collapsed": false,
    "pycharm": {
     "name": "#%%\n"
    }
   }
  },
  {
   "cell_type": "code",
   "execution_count": 131,
   "outputs": [
    {
     "name": "stdout",
     "output_type": "stream",
     "text": [
      "Accuracy: 91.70%\n"
     ]
    }
   ],
   "source": [
    "\n",
    "# make predictions for test data\n",
    "\n",
    "y_pred = model.predict(X_test)\n",
    "#predictions = [value for value in y_pred]\n",
    "\n",
    "# evaluate predictions\n",
    "\n",
    "accuracy = accuracy_score(y_test, y_pred)\n",
    "print(\"Accuracy: %.2f%%\" % (accuracy * 100.0))"
   ],
   "metadata": {
    "collapsed": false,
    "pycharm": {
     "name": "#%%\n"
    }
   }
  },
  {
   "cell_type": "code",
   "execution_count": 132,
   "outputs": [
    {
     "data": {
      "text/plain": "True     60\nFalse    40\nName: result, dtype: int64"
     },
     "execution_count": 132,
     "metadata": {},
     "output_type": "execute_result"
    }
   ],
   "source": [
    "cv_test = CountVectorizer(vocabulary=cv.get_feature_names_out())\n",
    "simple_test = pd.read_csv(\"..\\\\data\\\\simple_test.csv\")\n",
    "fitted = cv_test.fit_transform(simple_test.title)\n",
    "new_pred = pd.DataFrame(model.predict(fitted))\n",
    "new_pd = pd.concat([simple_test, new_pred],axis=1)\n",
    "new_pd.columns = [\"title\", \"result\"]\n",
    "new_pd[\"result\"].value_counts()"
   ],
   "metadata": {
    "collapsed": false,
    "pycharm": {
     "name": "#%%\n"
    }
   }
  },
  {
   "cell_type": "code",
   "execution_count": 133,
   "outputs": [
    {
     "data": {
      "text/plain": "                                                title  result\n0   My wife told me to stop impersonating a flamin...    True\n1   I went to buy some camo pants but couldn’t fin...   False\n2   I failed math so many times at school, I can’t...   False\n3   I used to have a handle on life, but then it b...    True\n4   I was wondering why the frisbee kept getting b...    True\n..                                                ...     ...\n95  ‘I have a split personality,’ said Tom, being ...   False\n96  My teachers told me I’d never amount to much b...    True\n97  Will glass coffins be a success? Remains to be...   False\n98  Did you hear about the guy whose whole left si...    True\n99  The man who survived both mustard gas and pepp...   False\n\n[100 rows x 2 columns]",
      "text/html": "<div>\n<style scoped>\n    .dataframe tbody tr th:only-of-type {\n        vertical-align: middle;\n    }\n\n    .dataframe tbody tr th {\n        vertical-align: top;\n    }\n\n    .dataframe thead th {\n        text-align: right;\n    }\n</style>\n<table border=\"1\" class=\"dataframe\">\n  <thead>\n    <tr style=\"text-align: right;\">\n      <th></th>\n      <th>title</th>\n      <th>result</th>\n    </tr>\n  </thead>\n  <tbody>\n    <tr>\n      <th>0</th>\n      <td>My wife told me to stop impersonating a flamin...</td>\n      <td>True</td>\n    </tr>\n    <tr>\n      <th>1</th>\n      <td>I went to buy some camo pants but couldn’t fin...</td>\n      <td>False</td>\n    </tr>\n    <tr>\n      <th>2</th>\n      <td>I failed math so many times at school, I can’t...</td>\n      <td>False</td>\n    </tr>\n    <tr>\n      <th>3</th>\n      <td>I used to have a handle on life, but then it b...</td>\n      <td>True</td>\n    </tr>\n    <tr>\n      <th>4</th>\n      <td>I was wondering why the frisbee kept getting b...</td>\n      <td>True</td>\n    </tr>\n    <tr>\n      <th>...</th>\n      <td>...</td>\n      <td>...</td>\n    </tr>\n    <tr>\n      <th>95</th>\n      <td>‘I have a split personality,’ said Tom, being ...</td>\n      <td>False</td>\n    </tr>\n    <tr>\n      <th>96</th>\n      <td>My teachers told me I’d never amount to much b...</td>\n      <td>True</td>\n    </tr>\n    <tr>\n      <th>97</th>\n      <td>Will glass coffins be a success? Remains to be...</td>\n      <td>False</td>\n    </tr>\n    <tr>\n      <th>98</th>\n      <td>Did you hear about the guy whose whole left si...</td>\n      <td>True</td>\n    </tr>\n    <tr>\n      <th>99</th>\n      <td>The man who survived both mustard gas and pepp...</td>\n      <td>False</td>\n    </tr>\n  </tbody>\n</table>\n<p>100 rows × 2 columns</p>\n</div>"
     },
     "execution_count": 133,
     "metadata": {},
     "output_type": "execute_result"
    }
   ],
   "source": [
    "new_pd"
   ],
   "metadata": {
    "collapsed": false,
    "pycharm": {
     "name": "#%%\n"
    }
   }
  },
  {
   "cell_type": "code",
   "execution_count": null,
   "outputs": [],
   "source": [],
   "metadata": {
    "collapsed": false,
    "pycharm": {
     "name": "#%%\n"
    }
   }
  }
 ],
 "metadata": {
  "kernelspec": {
   "display_name": "Python 3",
   "language": "python",
   "name": "python3"
  },
  "language_info": {
   "codemirror_mode": {
    "name": "ipython",
    "version": 2
   },
   "file_extension": ".py",
   "mimetype": "text/x-python",
   "name": "python",
   "nbconvert_exporter": "python",
   "pygments_lexer": "ipython2",
   "version": "2.7.6"
  }
 },
 "nbformat": 4,
 "nbformat_minor": 0
}